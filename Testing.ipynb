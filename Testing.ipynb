{
 "cells": [
  {
   "cell_type": "code",
   "execution_count": 21,
   "id": "66c4f2ef",
   "metadata": {},
   "outputs": [],
   "source": [
    "from keras.models import load_model\n",
    "import os\n",
    "from tensorflow.keras.preprocessing.image import ImageDataGenerator\n",
    "from sklearn import metrics\n",
    "import tensorflow as tf"
   ]
  },
  {
   "cell_type": "code",
   "execution_count": 19,
   "id": "5d34f535",
   "metadata": {},
   "outputs": [],
   "source": [
    "base_path = 'I:\\AI Project\\models'\n",
    "densenetReg = load_model(os.path.join(base_path , 'densenetRegular.h5'))\n",
    "inceptionReg = load_model(os.path.join(base_path , 'inceptionRegular.h5'))\n",
    "resnetReg = load_model(os.path.join(base_path , 'resnetRegular.h5'))\n",
    "densenetGray = load_model(os.path.join(base_path , 'densenetGray.h5'))\n",
    "inceptionGray = load_model(os.path.join(base_path , 'inceptionGray.h5'))\n",
    "resnetGray = load_model(os.path.join(base_path , 'resnetGray.h5'))"
   ]
  },
  {
   "cell_type": "code",
   "execution_count": 25,
   "id": "f5f4944e",
   "metadata": {},
   "outputs": [
    {
     "name": "stdout",
     "output_type": "stream",
     "text": [
      "Found 20000 images belonging to 2 classes.\n",
      "Found 20000 images belonging to 2 classes.\n"
     ]
    }
   ],
   "source": [
    "base_path = 'I:\\AI Project\\deepfake'\n",
    "image_gen1 = ImageDataGenerator(rescale=1./255.)\n",
    "\n",
    "test_flow_regular = image_gen1.flow_from_directory(\n",
    "    os.path.join(base_path , 'test'),\n",
    "    target_size=(224, 224),\n",
    "    batch_size=1,\n",
    "    shuffle = False,\n",
    "    class_mode='binary'\n",
    ")\n",
    "y_test_regular = test_flow_regular.classes\n",
    "\n",
    "test_flow_gray = image_gen1.flow_from_directory(\n",
    "    os.path.join(base_path , 'test'),\n",
    "    target_size=(224, 224),\n",
    "    batch_size=1,\n",
    "    shuffle = False,\n",
    "    class_mode='binary',\n",
    "    color_mode='grayscale'\n",
    ")\n",
    "y_test_gray = test_flow_gray.classes"
   ]
  },
  {
   "cell_type": "code",
   "execution_count": 26,
   "id": "681a5d3e",
   "metadata": {},
   "outputs": [
    {
     "name": "stdout",
     "output_type": "stream",
     "text": [
      "20000/20000 [==============================] - 307s 15ms/step\n",
      "20000/20000 [==============================] - 298s 15ms/step\n",
      "20000/20000 [==============================] - 213s 11ms/step\n",
      "20000/20000 [==============================] - 207s 10ms/step\n",
      "20000/20000 [==============================] - 228s 11ms/step\n",
      "20000/20000 [==============================] - 224s 11ms/step\n"
     ]
    }
   ],
   "source": [
    "densenetReg_pred = densenetReg.predict(test_flow_regular)\n",
    "densenetGray_pred = densenetGray.predict(test_flow_gray)\n",
    "\n",
    "densenetReg_pred = inceptionReg.predict(test_flow_regular)\n",
    "inceptionGray_pred = inceptionGray.predict(test_flow_gray)\n",
    "\n",
    "resnetReg_pred = resnetReg.predict(test_flow_regular)\n",
    "resnetGray_pred = resnetGray.predict(test_flow_gray)"
   ]
  },
  {
   "cell_type": "code",
   "execution_count": 28,
   "id": "0013c38b",
   "metadata": {},
   "outputs": [
    {
     "name": "stdout",
     "output_type": "stream",
     "text": [
      "Densenet Regular\n",
      "ROC AUC Score: 0.996271405\n",
      "AP Score: 0.9961614061578886\n",
      "\n",
      "              precision    recall  f1-score   support\n",
      "\n",
      "           0       0.95      0.98      0.97     10000\n",
      "           1       0.98      0.95      0.97     10000\n",
      "\n",
      "    accuracy                           0.97     20000\n",
      "   macro avg       0.97      0.97      0.97     20000\n",
      "weighted avg       0.97      0.97      0.97     20000\n",
      "\n",
      "Densenet Gray\n",
      "ROC AUC Score: 0.997456255\n",
      "AP Score: 0.9972572565941876\n",
      "\n",
      "              precision    recall  f1-score   support\n",
      "\n",
      "           0       0.97      0.98      0.98     10000\n",
      "           1       0.98      0.97      0.98     10000\n",
      "\n",
      "    accuracy                           0.98     20000\n",
      "   macro avg       0.98      0.98      0.98     20000\n",
      "weighted avg       0.98      0.98      0.98     20000\n",
      "\n",
      "Inception Regular\n",
      "ROC AUC Score: 0.997279655\n",
      "AP Score: 0.9970631471006094\n",
      "\n",
      "              precision    recall  f1-score   support\n",
      "\n",
      "           0       0.99      0.93      0.96     10000\n",
      "           1       0.94      0.99      0.97     10000\n",
      "\n",
      "    accuracy                           0.96     20000\n",
      "   macro avg       0.97      0.96      0.96     20000\n",
      "weighted avg       0.97      0.96      0.96     20000\n",
      "\n",
      "Inception Gray\n",
      "ROC AUC Score: 0.998956665\n",
      "AP Score: 0.9988496246849834\n",
      "\n",
      "              precision    recall  f1-score   support\n",
      "\n",
      "           0       0.99      0.98      0.99     10000\n",
      "           1       0.98      0.99      0.99     10000\n",
      "\n",
      "    accuracy                           0.99     20000\n",
      "   macro avg       0.99      0.99      0.99     20000\n",
      "weighted avg       0.99      0.99      0.99     20000\n",
      "\n",
      "Resnet Regular\n",
      "ROC AUC Score: 0.994448455\n",
      "AP Score: 0.9942866204427757\n",
      "\n",
      "              precision    recall  f1-score   support\n",
      "\n",
      "           0       0.96      0.97      0.96     10000\n",
      "           1       0.97      0.96      0.96     10000\n",
      "\n",
      "    accuracy                           0.96     20000\n",
      "   macro avg       0.96      0.96      0.96     20000\n",
      "weighted avg       0.96      0.96      0.96     20000\n",
      "\n",
      "Resnet Gray\n",
      "ROC AUC Score: 0.9922737850000001\n",
      "AP Score: 0.9917933594404549\n",
      "\n",
      "              precision    recall  f1-score   support\n",
      "\n",
      "           0       0.98      0.92      0.95     10000\n",
      "           1       0.92      0.98      0.95     10000\n",
      "\n",
      "    accuracy                           0.95     20000\n",
      "   macro avg       0.95      0.95      0.95     20000\n",
      "weighted avg       0.95      0.95      0.95     20000\n",
      "\n"
     ]
    }
   ],
   "source": [
    "print(\"Densenet Regular\")\n",
    "print(\"ROC AUC Score:\", metrics.roc_auc_score(y_test_regular, densenetReg_pred))\n",
    "print(\"AP Score:\", metrics.average_precision_score(y_test_regular, densenetReg_pred))\n",
    "print()\n",
    "print(metrics.classification_report(y_test_regular, densenetReg_pred > 0.5))\n",
    "print(\"Densenet Gray\")\n",
    "print(\"ROC AUC Score:\", metrics.roc_auc_score(y_test_gray, densenetGray_pred))\n",
    "print(\"AP Score:\", metrics.average_precision_score(y_test_gray, densenetGray_pred))\n",
    "print()\n",
    "print(metrics.classification_report(y_test_gray, densenetGray_pred > 0.5))\n",
    "\n",
    "print(\"Inception Regular\")\n",
    "print(\"ROC AUC Score:\", metrics.roc_auc_score(y_test_regular, inceptionReg_pred))\n",
    "print(\"AP Score:\", metrics.average_precision_score(y_test_regular, inceptionReg_pred))\n",
    "print()\n",
    "print(metrics.classification_report(y_test_regular, inceptionReg_pred > 0.5))\n",
    "print(\"Inception Gray\")\n",
    "print(\"ROC AUC Score:\", metrics.roc_auc_score(y_test_gray, inceptionGray_pred))\n",
    "print(\"AP Score:\", metrics.average_precision_score(y_test_gray, inceptionGray_pred))\n",
    "print()\n",
    "print(metrics.classification_report(y_test_gray, inceptionGray_pred > 0.5))\n",
    "\n",
    "print(\"Resnet Regular\")\n",
    "print(\"ROC AUC Score:\", metrics.roc_auc_score(y_test_regular, resnetReg_pred))\n",
    "print(\"AP Score:\", metrics.average_precision_score(y_test_regular, resnetReg_pred))\n",
    "print()\n",
    "print(metrics.classification_report(y_test_regular, resnetReg_pred > 0.5))\n",
    "print(\"Resnet Gray\")\n",
    "print(\"ROC AUC Score:\", metrics.roc_auc_score(y_test_gray, resnetGray_pred))\n",
    "print(\"AP Score:\", metrics.average_precision_score(y_test_gray, resnetGray_pred))\n",
    "print()\n",
    "print(metrics.classification_report(y_test_gray, resnetGray_pred > 0.5))"
   ]
  },
  {
   "cell_type": "code",
   "execution_count": null,
   "id": "e76b25d4",
   "metadata": {},
   "outputs": [],
   "source": [
    "models_regular = [densenetReg,inceptionReg,resnetReg]\n",
    "model_input = tf.keras.Input(shape=(224,224,3))\n",
    "model_outputs = [model(model_input) for model in models_regular]\n",
    "ensemble_output = tf.keras.layers.Average()(model_outputs)\n",
    "ensemble_model = tf.keras.Model(inputs=model_input, outputs=ensemble_output)\n",
    "\n"
   ]
  },
  {
   "cell_type": "code",
   "execution_count": null,
   "id": "2bd55106",
   "metadata": {},
   "outputs": [],
   "source": [
    "ensemble_Reg = ensemble_model.predict(test_flow_regular)"
   ]
  },
  {
   "cell_type": "code",
   "execution_count": null,
   "id": "5a5bb2f6",
   "metadata": {},
   "outputs": [],
   "source": [
    "models_gray = [ densenetGray, inceptionGray, resnetGray]\n",
    "model_input = tf.keras.Input(shape=(224,224,3))\n",
    "model_outputs = [model(model_input) for model in models_gray]\n",
    "ensemble_output = tf.keras.layers.Average()(model_outputs)\n",
    "ensemble_model2 = tf.keras.Model(inputs=model_input, outputs=ensemble_output)\n",
    "\n"
   ]
  },
  {
   "cell_type": "code",
   "execution_count": null,
   "id": "e6a4977b",
   "metadata": {},
   "outputs": [],
   "source": [
    "ensemble_Reg = ensemble_model2.predict(test_flow_gray)"
   ]
  }
 ],
 "metadata": {
  "kernelspec": {
   "display_name": "Python 3",
   "language": "python",
   "name": "python3"
  },
  "language_info": {
   "codemirror_mode": {
    "name": "ipython",
    "version": 3
   },
   "file_extension": ".py",
   "mimetype": "text/x-python",
   "name": "python",
   "nbconvert_exporter": "python",
   "pygments_lexer": "ipython3",
   "version": "3.10.6 (tags/v3.10.6:9c7b4bd, Aug  1 2022, 21:53:49) [MSC v.1932 64 bit (AMD64)]"
  },
  "vscode": {
   "interpreter": {
    "hash": "4651836beff25c211078182039a46398b107ed900888b4656d16d7ba31629314"
   }
  }
 },
 "nbformat": 4,
 "nbformat_minor": 5
}
